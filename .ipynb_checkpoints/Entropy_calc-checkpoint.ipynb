{
 "cells": [
  {
   "cell_type": "code",
   "execution_count": 19,
   "metadata": {},
   "outputs": [],
   "source": [
    "# sample data \n",
    "# Each raw is an example and first two column are the attributes followed by label.\n",
    "\n",
    "training_data = [\n",
    "                [\"green\",3,\"mango\"],\n",
    "                [\"yellow\",3,\"mango\"],\n",
    "                [\"red\",1,\"grape\"],\n",
    "                [\"red\",1,\"grape\"],\n",
    "                [\"yellow\",3,\"lemon\"]\n",
    "                ]\n",
    "\n",
    "label = [\"Color\",\"Diameter\",\"label\"]\n",
    "\n",
    "def unique_vals(rows,col):\n",
    "    return set([row[col] for row in rows])   ### set function will return unique values only.\n",
    "\n",
    "# unique_vals(training_data,0)\n",
    "\n",
    "df = pd.DataFrame(training_data,columns=label)\n"
   ]
  },
  {
   "cell_type": "code",
   "execution_count": 9,
   "metadata": {},
   "outputs": [],
   "source": [
    "import pandas as pd\n",
    "import math as m"
   ]
  },
  {
   "cell_type": "code",
   "execution_count": 22,
   "metadata": {},
   "outputs": [
    {
     "data": {
      "text/plain": [
       "{'grape': 2, 'lemon': 1, 'mango': 2}"
      ]
     },
     "execution_count": 22,
     "metadata": {},
     "output_type": "execute_result"
    }
   ],
   "source": [
    "## for getting frequency counts\n",
    "\n",
    "def class_count(df_colmn):\n",
    "    return dict(pd.Series(df_colmn).value_counts())\n",
    "\n",
    "class_count(df.label)"
   ]
  },
  {
   "cell_type": "code",
   "execution_count": 24,
   "metadata": {},
   "outputs": [],
   "source": [
    "## Checking the value is numeric or not.\n",
    "def is_numeric(value):\n",
    "    return isinstance(value,int) or isinstance(value,float)\n",
    "\n",
    "# is_numeric(7)"
   ]
  },
  {
   "cell_type": "code",
   "execution_count": 43,
   "metadata": {},
   "outputs": [],
   "source": [
    "## Now calculating the entropy or the total sample:\n",
    "\n",
    "# E(S) = - p(yes)*log2(P(yes)) - p(No)*log2(P(No))\n",
    "\n",
    "def entropy_cal(prob):\n",
    "    Entropy = (-prob)*m.log(prob,3)     # Log of 3 since we have 3 class\n",
    "    return Entropy"
   ]
  },
  {
   "cell_type": "code",
   "execution_count": 54,
   "metadata": {},
   "outputs": [
    {
     "name": "stdout",
     "output_type": "stream",
     "text": [
      "0.3336175068585878\n",
      "0.3336175068585878\n",
      "0.29299470414358536\n",
      "Tot Entropy is 0.96\n"
     ]
    }
   ],
   "source": [
    "probabilities = [value/len(training_data) for value in class_count(df.label).values()]\n",
    "\n",
    "tot_entr=0\n",
    "\n",
    "for prob in probabilities : \n",
    "    tot_entr = tot_entr+entropy_cal(prob)\n",
    "    print(entropy_cal(prob))\n",
    "\n",
    "print(\"Tot Entropy is {0:.2f}\".format(tot_entr))\n"
   ]
  }
 ],
 "metadata": {
  "kernelspec": {
   "display_name": "Python 3",
   "language": "python",
   "name": "python3"
  },
  "language_info": {
   "codemirror_mode": {
    "name": "ipython",
    "version": 3
   },
   "file_extension": ".py",
   "mimetype": "text/x-python",
   "name": "python",
   "nbconvert_exporter": "python",
   "pygments_lexer": "ipython3",
   "version": "3.6.4"
  }
 },
 "nbformat": 4,
 "nbformat_minor": 2
}
